{
 "cells": [
  {
   "cell_type": "markdown",
   "id": "50e353b1",
   "metadata": {},
   "source": [
    "Importing Libraries"
   ]
  },
  {
   "cell_type": "code",
   "execution_count": null,
   "id": "73e8946d",
   "metadata": {},
   "outputs": [],
   "source": [
    "import pandas as pd \n",
    "import numpy as np \n",
    "import tensorflow as tf \n",
    "from tensorflow import keras\n",
    "from sklearn import preprocessing\n",
    "from sklearn.preprocessing import StandardScaler\n",
    "from sklearn.model_selection import train_test_split\n",
    "import matplotlib.pyplot as plt "
   ]
  },
  {
   "cell_type": "markdown",
   "id": "759d6c49",
   "metadata": {},
   "source": [
    "Data Preprocessing"
   ]
  },
  {
   "cell_type": "code",
   "execution_count": 2,
   "id": "4bbb9e2e",
   "metadata": {},
   "outputs": [],
   "source": [
    "def get_data():\n",
    "    iris_data = pd.read_csv(\"Data.csv\")\n",
    "\n",
    "    label_encoder = preprocessing.LbelEncoder()\n",
    "    iris_data['Species'] = label_encoder.fit_transform(iris_data['Species'])\n",
    "\n",
    "    np_iris= iris_data.to_numpy()\n",
    "\n",
    "    X_data = np_iris[: , : 4]\n",
    "    Y_data = np_iris[: , 4]\n",
    "\n",
    "    scaler = StandardScaler().fit(X_data)\n",
    "    X_data = scaler.transform(X_data)\n",
    "\n",
    "    Y_data = tf.keras.utils.to_categorical(Y_data,3)\n",
    "    return X_data, Y_data"
   ]
  },
  {
   "cell_type": "markdown",
   "id": "ad9cdf62",
   "metadata": {},
   "source": [
    "Model Configuration\n",
    "\n",
    "Separates architecture/config choices (like optimizer, layers, dropout, etc.) from logic. This makes experiments easier to run by tweaking config values."
   ]
  },
  {
   "cell_type": "code",
   "execution_count": 5,
   "id": "4535f272",
   "metadata": {},
   "outputs": [],
   "source": [
    "def base_model_config():\n",
    "    model_config = {\n",
    "        \"HIDDEN_NODES\": [32, 64],\n",
    "        \"HIDDEN_ACTIVATION\": \"relu\",\n",
    "        \"OUTPUT_NODES\": 3,\n",
    "        \"OUTPUT_ACTIVATION\": \"softmax\",\n",
    "        \"WEIGHTS_INITIALIZER\": \"random_normal\",\n",
    "        \"BIAS_INITIALIZER\": \"zeroes\",\n",
    "        \"NORMALIZATION\": \"none\",\n",
    "        \"OPTIMIZER\": \"rmsprop\",\n",
    "        \"LEARNING_RATE\": 0.001,\n",
    "        \"REGULARIZER\": None,\n",
    "        \"DROPOUT_RATE\": 0.0,\n",
    "        \"EPOCHS\": 10,\n",
    "        \"BATCH_SIZE\": 16,\n",
    "        \"VALIDATION_SPLIT\": 0.2,\n",
    "        \"VERBOSE\": 0,\n",
    "        \"LOSS_FUNCTION\": \"categorical_crossentropy\",\n",
    "        \"METRICS\": [\"accuracy\"]\n",
    "    }\n",
    "    return model_config"
   ]
  },
  {
   "cell_type": "markdown",
   "id": "db3f43ff",
   "metadata": {},
   "source": [
    "Utility Functions\n",
    "\n",
    "Helper functions so that optimizers & regularizers are passed as keras objects instead of strings"
   ]
  },
  {
   "cell_type": "code",
   "execution_count": null,
   "id": "7f2a133e",
   "metadata": {},
   "outputs": [],
   "source": [
    "def get_optimizer(optimizer_name, learning_rate):\n",
    "    if optimizer_name == 'adagrad':\n",
    "        return keras.optimizers.Adagrad(learning_rate=learning_rate)\n",
    "    elif optimizer_name == 'rmsprop':\n",
    "        return keras.optimizers.RMSprop(learning_rate=learning_rate)\n",
    "    elif optimizer_name == 'adam':\n",
    "        return keras.optimizers.Adam(learning_rate=learning_rate)\n",
    "    else:\n",
    "        return keras.optimizers.SGD(learning_rate=learning_rate)\n",
    "    \n",
    "def get_regularizer(regularizer_name):\n",
    "    if regularizer_name =='l1':\n",
    "        return keras.regularizers.l1()\n",
    "    elif regularizer_name == 'l2':\n",
    "        return keras.regularizers.l2()\n",
    "    elif regularizer_name == 'l1_l2':\n",
    "        return keras.regularizers.l1_l2(l1=0.01, l2=0.01)\n",
    "    else:\n",
    "        return None"
   ]
  },
  {
   "cell_type": "markdown",
   "id": "0f718ac1",
   "metadata": {},
   "source": [
    "Model Creation and Training"
   ]
  },
  {
   "cell_type": "code",
   "execution_count": null,
   "id": "ad4b0d3a",
   "metadata": {},
   "outputs": [],
   "source": [
    "def create_and_run_model(model_config, X, Y, model_name):\n",
    "    model = tf.keras.models.Sequential(name=model_name)\n",
    "\n",
    "    # Hidden Layers\n",
    "\n",
    "    for i, units in enumerate(model_config[\"HIDDEN_NODES\"]):\n",
    "        if i==0:\n",
    "            model.add(keras.layers.Dense(units, input_shape=(X.shape[1], ), name=f\"Dense-Layer-{i}\",\n",
    "                                         activation=model_config[\"HIDDEN_ACTIVATION\"], \n",
    "                                         kernel_initializer=model_config[\"WEIGHTS_INITIALIZER\"], \n",
    "                                         bias_intializer=model_config[\"BIAS_INITIALIZER\"], \n",
    "                                         kernel_regularizer=model_config[\"REGULARIZER\"]))\n",
    "    \n",
    "        else:\n",
    "            if model_config[\"NORMALIZATION\"] == \"batch\":\n",
    "                model.add(keras.layers.BatchNormalization())\n",
    "\n",
    "            if model_config[\"DROPOUT_RATE\"] > 0.0:\n",
    "                model.add(keras.layers.Dropout(model_config[\"DROPOUT_RATE\"]))\n",
    "\n",
    "            model.add(keras.layers.Dense(units,\n",
    "                                         name=f\"Dense-Layer-{i}\",\n",
    "                                         activation=model_config[\"HIDDEN_ACTIVATION\"],\n",
    "                                         kernel_initializer=model_config[\"WEIGHTS_INITIALIZER\"],\n",
    "                                         bias_initializer=model_config[\"BIAS_INITIALIZER\"],\n",
    "                                         kernel_regularizer=model_config[\"REGULARIZER\"]))\n",
    "            \n",
    "    # Output Layer\n",
    "\n",
    "    model.add(keras.layers.Dense(model_config[\"OUTPUT_NODES\"], \n",
    "                                 name=\"Output_Layer\",\n",
    "                                 activation=model_config[\"OUTPUT_ACTIVATION\"]))\n",
    "    \n",
    "    # Compile\n",
    "\n",
    "    optimizer = get_optimizer(model_config[\"OPTIMIZER\"], model_config[\"LEARNING_RATE\"])\n",
    "    model.compile(loss=model_config[\"LOSS_FUNCTION\"], optimizer=optimizer, metrics=model_config[\"METRICS\"])\n",
    "\n",
    "    print(\"\\n================== MODEL SUMMARY ==================\")\n",
    "    model.summary()\n",
    "\n",
    "    # Split data\n",
    "    X_train, X_test, Y_train, Y_test = train_test_split(X, Y, stratify=Y, test_size=model_config[\"VALIDATION_SPLIT\"])\n",
    "\n",
    "    # Train Model\n",
    "\n",
    "    history = model.fit(X_train, Y_train, \n",
    "                        batch_size=model_config[\"BATCH_SIZE\"], \n",
    "                        epochs=model_config[\"EPOCHS\"], \n",
    "                        verbose=model_config[\"VERBOSE\"], \n",
    "                        validation_data=(X_test, Y_test))\n",
    "    return history                                                           "
   ]
  },
  {
   "cell_type": "markdown",
   "id": "74fa1250",
   "metadata": {},
   "source": [
    "Plotting Accuracy Over Epochs"
   ]
  },
  {
   "cell_type": "code",
   "execution_count": null,
   "id": "d38243ec",
   "metadata": {},
   "outputs": [],
   "source": [
    "def plot_graph(accuracy_measures, title):\n",
    "    plt.figure(figsize=(15, 10))\n",
    "    for experiment in accuracy_measures.keys():\n",
    "        plt.plot(accuracy_measures[experiment], label= experiment, linewidth=3)\n",
    "\n",
    "    plt.title(title)\n",
    "    plt.xlabel(\"Epochs\")\n",
    "    plt.ylabel(\"Accuracy\")\n",
    "    plt.legend()\n",
    "    plt.grid(True)\n",
    "    plt.show()"
   ]
  },
  {
   "cell_type": "markdown",
   "id": "22e4e6f5",
   "metadata": {},
   "source": [
    "Final Main Runner"
   ]
  },
  {
   "cell_type": "code",
   "execution_count": null,
   "id": "2e38dbbe",
   "metadata": {},
   "outputs": [],
   "source": [
    "if __name__ == \"__main__\":\n",
    "    X_data, Y_data = get_data()\n",
    "    config = base_model_config()\n",
    "    history = create_and_run_model(config, X_data, Y_data, \"Iris_Model\")\n",
    "    plot_graph({\"Iris_Model\": history.history[\"accuracy\"]}, \"Model Training Accuracy Over Epochs\")"
   ]
  }
 ],
 "metadata": {
  "kernelspec": {
   "display_name": "Python 3",
   "language": "python",
   "name": "python3"
  },
  "language_info": {
   "codemirror_mode": {
    "name": "ipython",
    "version": 3
   },
   "file_extension": ".py",
   "mimetype": "text/x-python",
   "name": "python",
   "nbconvert_exporter": "python",
   "pygments_lexer": "ipython3",
   "version": "3.11.9"
  }
 },
 "nbformat": 4,
 "nbformat_minor": 5
}
