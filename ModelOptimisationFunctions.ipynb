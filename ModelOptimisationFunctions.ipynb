{
 "cells": [
  {
   "cell_type": "markdown",
   "id": "50e353b1",
   "metadata": {},
   "source": [
    "Importing Libraries"
   ]
  },
  {
   "cell_type": "code",
   "execution_count": null,
   "id": "73e8946d",
   "metadata": {},
   "outputs": [],
   "source": [
    "import pandas as pd \n",
    "import numpy as np \n",
    "import tensorflow as tf \n",
    "from tensorflow import keras\n",
    "from sklearn import preprocessing\n",
    "from sklearn.preprocessing import StandardScaler\n",
    "from sklearn.model_selection import train_test_split\n",
    "import matplotlib.pyplot as plt "
   ]
  },
  {
   "cell_type": "markdown",
   "id": "759d6c49",
   "metadata": {},
   "source": [
    "Data Preprocessing"
   ]
  },
  {
   "cell_type": "code",
   "execution_count": 2,
   "id": "4bbb9e2e",
   "metadata": {},
   "outputs": [],
   "source": [
    "def get_data():\n",
    "    iris_data = pd.read_csv(\"Data.csv\")\n",
    "\n",
    "    label_encoder = preprocessing.LbelEncoder()\n",
    "    iris_data['Species'] = label_encoder.fit_transform(iris_data['Species'])\n",
    "\n",
    "    np_iris= iris_data.to_numpy()\n",
    "\n",
    "    X_data = np_iris[: , : 4]\n",
    "    Y_data = np_iris[: , 4]\n",
    "\n",
    "    scaler = StandardScaler().fit(X_data)\n",
    "    X_data = scaler.transform(X_data)\n",
    "\n",
    "    Y_data = tf.keras.utils.to_categorical(Y_data,3)\n",
    "    return X_data, Y_data"
   ]
  },
  {
   "cell_type": "markdown",
   "id": "ad9cdf62",
   "metadata": {},
   "source": [
    "Model Configuration\n",
    "\n",
    "Separates architecture/config choices (like optimizer, layers, dropout, etc.) from logic. This makes experiments easier to run by tweaking config values."
   ]
  },
  {
   "cell_type": "code",
   "execution_count": null,
   "id": "4535f272",
   "metadata": {},
   "outputs": [],
   "source": [
    "def base_model_config():\n",
    "    model_cofig = {\n",
    "        \"HIDDEN_NODES\": [32, 64]\n",
    "    }"
   ]
  }
 ],
 "metadata": {
  "kernelspec": {
   "display_name": "Python 3",
   "language": "python",
   "name": "python3"
  },
  "language_info": {
   "codemirror_mode": {
    "name": "ipython",
    "version": 3
   },
   "file_extension": ".py",
   "mimetype": "text/x-python",
   "name": "python",
   "nbconvert_exporter": "python",
   "pygments_lexer": "ipython3",
   "version": "3.11.9"
  }
 },
 "nbformat": 4,
 "nbformat_minor": 5
}
